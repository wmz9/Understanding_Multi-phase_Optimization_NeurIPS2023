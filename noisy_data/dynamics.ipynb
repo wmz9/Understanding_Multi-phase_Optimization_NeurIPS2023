{
 "cells": [
  {
   "cell_type": "code",
   "execution_count": 1,
   "metadata": {},
   "outputs": [
    {
     "name": "stdout",
     "output_type": "stream",
     "text": [
      "cpu\n"
     ]
    }
   ],
   "source": [
    "from pathlib import Path\n",
    "from tqdm import tqdm\n",
    "import os\n",
    "import json\n",
    "import copy\n",
    "import numpy as np\n",
    "import math\n",
    "import matplotlib.pyplot as plt\n",
    "import torch\n",
    "import torch.optim as optim\n",
    "import torch.nn as nn\n",
    "import torch.nn.functional as F\n",
    "import random\n",
    "# os.environ['CUDA_VISIBLE_DEVICES'] = '1'\n",
    "device = torch.device(\"cuda\" if torch.cuda.is_available() else \"cpu\")\n",
    "print(device)"
   ]
  },
  {
   "cell_type": "code",
   "execution_count": 2,
   "metadata": {},
   "outputs": [],
   "source": [
    "d = 20\n",
    "Delta = np.pi / 30 # Acutually, for the definition of Delta in our paper, it is equal to Delta/2.\n",
    "p = 4\n",
    "width = 100\n",
    "\n",
    "def gen_data(n, d, Delta, p):\n",
    "    x = torch.rand(n, d) * 2 - 1\n",
    "    nc = int(n*p/(1+p))\n",
    "    x[0, 0] = np.sin(Delta)\n",
    "    x[0, 1] = -np.cos(Delta)\n",
    "    x[0, 2:] = 0\n",
    "    for i in range(1, nc):\n",
    "        Delta_random = random.uniform(Delta/2, Delta)\n",
    "        x[i, 0] = np.sin(Delta_random)\n",
    "        x[i, 1] = -np.cos(Delta_random)\n",
    "        x[i, 2:] = 0\n",
    "    x[nc, 0] = -np.sin(Delta)\n",
    "    x[nc, 1] = -np.cos(Delta)\n",
    "    x[nc, 2:] = 0\n",
    "    for i in range(nc+1, n):\n",
    "        Delta_random = random.uniform(Delta/2, Delta)\n",
    "        x[i, 0] = -np.sin(Delta_random)\n",
    "        x[i, 1] = -np.cos(Delta_random)\n",
    "        x[i, 2:] = 0\n",
    "    y = torch.randn(n)\n",
    "    for i in range(n):\n",
    "        if x[i, 0] > 0:\n",
    "            y[i] = 1.\n",
    "        else:\n",
    "            y[i] = -1.\n",
    "    return x, y"
   ]
  },
  {
   "cell_type": "code",
   "execution_count": 3,
   "metadata": {},
   "outputs": [],
   "source": [
    "def bino_(m, n):\n",
    "    idi = int(n/2)\n",
    "    x = np.random.randn(m, n)\n",
    "    x[0, 0: idi] = 1/np.sqrt(width)\n",
    "    x[0, idi:] = -1/np.sqrt(width)\n",
    "    y = torch.from_numpy(x).float()\n",
    "    return torch.nn.Parameter(y)\n",
    "\n",
    "def uniball_(d, width, kappa):\n",
    "    ka = kappa / np.sqrt(width)\n",
    "    x = np.random.normal(0., 1/np.sqrt(d), (width, d))\n",
    "    for i in range(width):\n",
    "        ni = np.linalg.norm(x[i,:])\n",
    "        x[i,:] = x[i,:] / ni\n",
    "    z = x * ka\n",
    "    y = torch.from_numpy(z).float()\n",
    "    return torch.nn.Parameter(y)\n",
    "\n",
    "def exp_loss(net, bx, by):\n",
    "    by_pre = net(bx)\n",
    "    loss_vec = torch.exp(- by_pre * by)\n",
    "    loss = loss_vec.mean()\n",
    "    return loss\n",
    "\n",
    "class FNN(nn.Module):\n",
    "    def __init__(self, d, width, kappa):\n",
    "        super(FNN, self).__init__()\n",
    "        self.fc1 = nn.Linear(d, width, bias=False)\n",
    "        self.fc1.weight = uniball_(d, width, kappa)\n",
    "        self.fc2 = nn.Linear(width, 1, bias=False)\n",
    "        self.fc2.weight = bino_(self.fc2.weight.shape[0], self.fc2.weight.shape[1])\n",
    "\n",
    "    def forward(self, x):\n",
    "        o = self.fc1(x)\n",
    "        o = torch.relu(o)\n",
    "        o = self.fc2(o)\n",
    "        return o.squeeze()"
   ]
  },
  {
   "cell_type": "code",
   "execution_count": 4,
   "metadata": {},
   "outputs": [],
   "source": [
    "def eval_accuracy(model, bx, by):\n",
    "    model.eval()\n",
    "    n = len(by)\n",
    "    with torch.no_grad():\n",
    "        z = model(bx) * by\n",
    "        correct = sum(z>0).item()\n",
    "    return correct * 100.0 / n\n"
   ]
  },
  {
   "cell_type": "code",
   "execution_count": 5,
   "metadata": {},
   "outputs": [],
   "source": [
    "def train(kappa, n_tr, nepochs, lr):\n",
    "\n",
    "    x_tr, y_tr = gen_data(n_tr, d, Delta, p)\n",
    "    \n",
    "    x_tr = x_tr.to(device)\n",
    "    y_tr = y_tr.to(device)\n",
    "\n",
    "    net_SGD = FNN(d, width, kappa)\n",
    "    opt_SGD = optim.SGD(net_SGD.fc1.parameters(), lr=lr)\n",
    "    \n",
    "#     for para in net_SGD.fc2.parameters():\n",
    "#         print(para)\n",
    "    \n",
    "    net_SGD = net_SGD.to(device)\n",
    "\n",
    "    train_loss_SGD = []\n",
    "    train_acc_SGD = []\n",
    "    neurons_SGD = {}\n",
    "    \n",
    "    for epoch in tqdm(range(nepochs)):\n",
    "        opt_SGD.zero_grad()\n",
    "        if epoch % 10 == 0:\n",
    "            net_copy = copy.deepcopy(net_SGD)\n",
    "            neurons_SGD[epoch] = net_copy.fc1.weight.detach().cpu().numpy()\n",
    "            del net_copy\n",
    "        train_loss = exp_loss(net_SGD, x_tr, y_tr)\n",
    "        train_loss_SGD.append(train_loss.item())\n",
    "        train_acc = eval_accuracy(net_SGD, x_tr, y_tr)\n",
    "        train_acc_SGD.append(train_acc)\n",
    "        train_loss.backward()\n",
    "        opt_SGD.step()\n",
    "        if epoch % int(5e4) == 0:\n",
    "            print(train_acc)\n",
    "\n",
    "    return train_loss_SGD, train_acc_SGD, neurons_SGD, x_tr"
   ]
  },
  {
   "cell_type": "markdown",
   "metadata": {},
   "source": [
    "# kappa > lr"
   ]
  },
  {
   "cell_type": "code",
   "execution_count": 6,
   "metadata": {},
   "outputs": [
    {
     "name": "stderr",
     "output_type": "stream",
     "text": [
      "  0%|          | 384/400000 [00:00<01:44, 3835.47it/s]"
     ]
    },
    {
     "name": "stdout",
     "output_type": "stream",
     "text": [
      "20.0\n"
     ]
    },
    {
     "name": "stderr",
     "output_type": "stream",
     "text": [
      " 13%|█▎        | 50639/400000 [00:13<01:29, 3925.10it/s]"
     ]
    },
    {
     "name": "stdout",
     "output_type": "stream",
     "text": [
      "80.0\n"
     ]
    },
    {
     "name": "stderr",
     "output_type": "stream",
     "text": [
      " 25%|██▌       | 100760/400000 [00:25<01:16, 3915.73it/s]"
     ]
    },
    {
     "name": "stdout",
     "output_type": "stream",
     "text": [
      "86.66666666666667\n"
     ]
    },
    {
     "name": "stderr",
     "output_type": "stream",
     "text": [
      " 38%|███▊      | 150704/400000 [00:38<01:04, 3865.11it/s]"
     ]
    },
    {
     "name": "stdout",
     "output_type": "stream",
     "text": [
      "100.0\n"
     ]
    },
    {
     "name": "stderr",
     "output_type": "stream",
     "text": [
      " 50%|█████     | 200557/400000 [00:51<00:51, 3852.24it/s]"
     ]
    },
    {
     "name": "stdout",
     "output_type": "stream",
     "text": [
      "100.0\n"
     ]
    },
    {
     "name": "stderr",
     "output_type": "stream",
     "text": [
      " 63%|██████▎   | 250609/400000 [01:04<00:38, 3873.62it/s]"
     ]
    },
    {
     "name": "stdout",
     "output_type": "stream",
     "text": [
      "100.0\n"
     ]
    },
    {
     "name": "stderr",
     "output_type": "stream",
     "text": [
      " 75%|███████▌  | 300407/400000 [01:17<00:25, 3869.80it/s]"
     ]
    },
    {
     "name": "stdout",
     "output_type": "stream",
     "text": [
      "100.0\n"
     ]
    },
    {
     "name": "stderr",
     "output_type": "stream",
     "text": [
      " 88%|████████▊ | 350511/400000 [01:30<00:12, 3874.85it/s]"
     ]
    },
    {
     "name": "stdout",
     "output_type": "stream",
     "text": [
      "100.0\n"
     ]
    },
    {
     "name": "stderr",
     "output_type": "stream",
     "text": [
      "100%|██████████| 400000/400000 [01:43<00:00, 3870.38it/s]\n"
     ]
    }
   ],
   "source": [
    "Epoch = int(4.0e5)\n",
    "train_loss, train_acc, neurons_SGD, x_tr = train(kappa=1e-1, n_tr=int(3 * (p+1)), nepochs=Epoch, lr=1e-2)"
   ]
  },
  {
   "cell_type": "code",
   "execution_count": 7,
   "metadata": {},
   "outputs": [
    {
     "data": {
      "text/plain": [
       "Text(-29.93345690017685, 0.5, 'log(loss)')"
      ]
     },
     "execution_count": 7,
     "metadata": {},
     "output_type": "execute_result"
    },
    {
     "data": {
      "image/png": "[encoded data removed]",
      "text/plain": [
       "<Figure size 500x400 with 1 Axes>"
      ]
     },
     "metadata": {},
     "output_type": "display_data"
    }
   ],
   "source": [
    "from matplotlib import rcParams\n",
    "plt.rcParams.update({\n",
    "    \"text.usetex\": True,\n",
    "    'text.latex.preamble': r\"\\usepackage{amsmath}\",\n",
    "    \"font.family\": \"sans-serif\",\n",
    "#     \"font.serif\": [\"Calibri\"abs],\n",
    "    \"grid.color\": \"0.5\",    # gray gridlines\n",
    "    \"grid.linestyle\": \"-\",  # solid gridlines\n",
    "    \"grid.linewidth\": 0.5,  # thin gridlines\n",
    "    \"axes.titlesize\" : 16,\n",
    "    \"axes.labelsize\" : 16,\n",
    "    \"lines.linewidth\" : 3,\n",
    "    \"lines.markersize\" : 8,\n",
    "    \"xtick.labelsize\" : 16,\n",
    "    \"ytick.labelsize\" : 16,\n",
    "    \"figure.figsize\" : (5, 4),\n",
    "    \"legend.fontsize\" : 16,\n",
    "    \"legend.handlelength\": 1,\n",
    "#     \"savefig.bbox\": \"tight\",\n",
    "#     \"savefig.dpi\": 300,\n",
    "})\n",
    "import matplotlib.pyplot as plt\n",
    "\n",
    "x = range(len(train_loss))\n",
    "# plt.plot(x, train_loss, color='C0')\n",
    "plt.semilogy(x, train_loss, color='C0', label='training loss')\n",
    "plt.legend()\n",
    "plt.tight_layout()\n",
    "plt.xlabel('epoch')\n",
    "plt.ylabel('log(loss)')\n",
    "# plt.savefig(save_path / 'train loss.png')"
   ]
  },
  {
   "cell_type": "code",
   "execution_count": 8,
   "metadata": {},
   "outputs": [
    {
     "data": {
      "image/png": "[encoded data removed]",
      "text/plain": [
       "<Figure size 500x400 with 1 Axes>"
      ]
     },
     "metadata": {},
     "output_type": "display_data"
    }
   ],
   "source": [
    "x = range(len(train_loss))\n",
    "# plt.plot(x, train_loss, color='C0')\n",
    "plt.plot(x, train_loss, color='C0', label='training loss')\n",
    "plt.legend()\n",
    "plt.xlabel('epoch')\n",
    "plt.ylabel('loss')\n",
    "plt.title(r'$\\mathcal{L}(\\boldsymbol{\\theta}(t))$', pad=10)\n",
    "plt.tight_layout()\n",
    "plt.savefig(\"./figs/loss.pdf\", dpi=500)"
   ]
  },
  {
   "cell_type": "code",
   "execution_count": 9,
   "metadata": {},
   "outputs": [
    {
     "data": {
      "image/png": "[encoded data removed]",
      "text/plain": [
       "<Figure size 500x400 with 1 Axes>"
      ]
     },
     "metadata": {},
     "output_type": "display_data"
    }
   ],
   "source": [
    "x = range(len(train_acc))\n",
    "plt.plot(x, train_acc, color='C0', label=\"training accuracy\")\n",
    "plt.legend()\n",
    "plt.xlabel('epoch')\n",
    "plt.ylabel('Acc')\n",
    "plt.title(r'${\\rm Acc}(t)$', pad=10)\n",
    "plt.tight_layout()\n",
    "plt.savefig(\"./figs/acc.pdf\", dpi=500)"
   ]
  },
  {
   "cell_type": "code",
   "execution_count": 10,
   "metadata": {},
   "outputs": [],
   "source": [
    "net_ana = {\"loss\": train_loss, \"acc\": train_acc, \"neuron\": neurons_SGD, \"d\": d, \"Delta\": Delta, 'width':width, \"T\": Epoch, \"modify\": 1, \"x\":  x_tr}\n",
    "import pickle\n",
    "with open(\"./net_ana.p\", \"wb\") as f:\n",
    "    pickle.dump(net_ana, f)"
   ]
  },
  {
   "cell_type": "code",
   "execution_count": 11,
   "metadata": {},
   "outputs": [
    {
     "data": {
      "text/plain": [
       "135034"
      ]
     },
     "execution_count": 11,
     "metadata": {},
     "output_type": "execute_result"
    }
   ],
   "source": [
    "train_acc.index(100)"
   ]
  },
  {
   "cell_type": "code",
   "execution_count": 12,
   "metadata": {},
   "outputs": [
    {
     "data": {
      "text/plain": [
       "tensor([[ 0.1045, -0.9945,  0.0000,  0.0000,  0.0000,  0.0000,  0.0000,  0.0000,\n",
       "          0.0000,  0.0000,  0.0000,  0.0000,  0.0000,  0.0000,  0.0000,  0.0000,\n",
       "          0.0000,  0.0000,  0.0000,  0.0000],\n",
       "        [ 0.0684, -0.9977,  0.0000,  0.0000,  0.0000,  0.0000,  0.0000,  0.0000,\n",
       "          0.0000,  0.0000,  0.0000,  0.0000,  0.0000,  0.0000,  0.0000,  0.0000,\n",
       "          0.0000,  0.0000,  0.0000,  0.0000],\n",
       "        [ 0.0760, -0.9971,  0.0000,  0.0000,  0.0000,  0.0000,  0.0000,  0.0000,\n",
       "          0.0000,  0.0000,  0.0000,  0.0000,  0.0000,  0.0000,  0.0000,  0.0000,\n",
       "          0.0000,  0.0000,  0.0000,  0.0000],\n",
       "        [ 0.0997, -0.9950,  0.0000,  0.0000,  0.0000,  0.0000,  0.0000,  0.0000,\n",
       "          0.0000,  0.0000,  0.0000,  0.0000,  0.0000,  0.0000,  0.0000,  0.0000,\n",
       "          0.0000,  0.0000,  0.0000,  0.0000],\n",
       "        [ 0.0816, -0.9967,  0.0000,  0.0000,  0.0000,  0.0000,  0.0000,  0.0000,\n",
       "          0.0000,  0.0000,  0.0000,  0.0000,  0.0000,  0.0000,  0.0000,  0.0000,\n",
       "          0.0000,  0.0000,  0.0000,  0.0000],\n",
       "        [ 0.0550, -0.9985,  0.0000,  0.0000,  0.0000,  0.0000,  0.0000,  0.0000,\n",
       "          0.0000,  0.0000,  0.0000,  0.0000,  0.0000,  0.0000,  0.0000,  0.0000,\n",
       "          0.0000,  0.0000,  0.0000,  0.0000],\n",
       "        [ 0.0707, -0.9975,  0.0000,  0.0000,  0.0000,  0.0000,  0.0000,  0.0000,\n",
       "          0.0000,  0.0000,  0.0000,  0.0000,  0.0000,  0.0000,  0.0000,  0.0000,\n",
       "          0.0000,  0.0000,  0.0000,  0.0000],\n",
       "        [ 0.0697, -0.9976,  0.0000,  0.0000,  0.0000,  0.0000,  0.0000,  0.0000,\n",
       "          0.0000,  0.0000,  0.0000,  0.0000,  0.0000,  0.0000,  0.0000,  0.0000,\n",
       "          0.0000,  0.0000,  0.0000,  0.0000],\n",
       "        [ 0.0648, -0.9979,  0.0000,  0.0000,  0.0000,  0.0000,  0.0000,  0.0000,\n",
       "          0.0000,  0.0000,  0.0000,  0.0000,  0.0000,  0.0000,  0.0000,  0.0000,\n",
       "          0.0000,  0.0000,  0.0000,  0.0000],\n",
       "        [ 0.0661, -0.9978,  0.0000,  0.0000,  0.0000,  0.0000,  0.0000,  0.0000,\n",
       "          0.0000,  0.0000,  0.0000,  0.0000,  0.0000,  0.0000,  0.0000,  0.0000,\n",
       "          0.0000,  0.0000,  0.0000,  0.0000],\n",
       "        [ 0.0641, -0.9979,  0.0000,  0.0000,  0.0000,  0.0000,  0.0000,  0.0000,\n",
       "          0.0000,  0.0000,  0.0000,  0.0000,  0.0000,  0.0000,  0.0000,  0.0000,\n",
       "          0.0000,  0.0000,  0.0000,  0.0000],\n",
       "        [ 0.0705, -0.9975,  0.0000,  0.0000,  0.0000,  0.0000,  0.0000,  0.0000,\n",
       "          0.0000,  0.0000,  0.0000,  0.0000,  0.0000,  0.0000,  0.0000,  0.0000,\n",
       "          0.0000,  0.0000,  0.0000,  0.0000],\n",
       "        [-0.1045, -0.9945,  0.0000,  0.0000,  0.0000,  0.0000,  0.0000,  0.0000,\n",
       "          0.0000,  0.0000,  0.0000,  0.0000,  0.0000,  0.0000,  0.0000,  0.0000,\n",
       "          0.0000,  0.0000,  0.0000,  0.0000],\n",
       "        [-0.0641, -0.9979,  0.0000,  0.0000,  0.0000,  0.0000,  0.0000,  0.0000,\n",
       "          0.0000,  0.0000,  0.0000,  0.0000,  0.0000,  0.0000,  0.0000,  0.0000,\n",
       "          0.0000,  0.0000,  0.0000,  0.0000],\n",
       "        [-0.0570, -0.9984,  0.0000,  0.0000,  0.0000,  0.0000,  0.0000,  0.0000,\n",
       "          0.0000,  0.0000,  0.0000,  0.0000,  0.0000,  0.0000,  0.0000,  0.0000,\n",
       "          0.0000,  0.0000,  0.0000,  0.0000]])"
      ]
     },
     "execution_count": 12,
     "metadata": {},
     "output_type": "execute_result"
    }
   ],
   "source": [
    " x_tr"
   ]
  },
  {
   "cell_type": "code",
   "execution_count": null,
   "metadata": {},
   "outputs": [],
   "source": []
  },
  {
   "cell_type": "code",
   "execution_count": null,
   "metadata": {},
   "outputs": [],
   "source": []
  },
  {
   "cell_type": "code",
   "execution_count": null,
   "metadata": {},
   "outputs": [],
   "source": []
  }
 ],
 "metadata": {
  "kernelspec": {
   "display_name": "Python 3 (ipykernel)",
   "language": "python",
   "name": "python3"
  },
  "language_info": {
   "codemirror_mode": {
    "name": "ipython",
    "version": 3
   },
   "file_extension": ".py",
   "mimetype": "text/x-python",
   "name": "python",
   "nbconvert_exporter": "python",
   "pygments_lexer": "ipython3",
   "version": "3.7.11"
  }
 },
 "nbformat": 4,
 "nbformat_minor": 4
}
