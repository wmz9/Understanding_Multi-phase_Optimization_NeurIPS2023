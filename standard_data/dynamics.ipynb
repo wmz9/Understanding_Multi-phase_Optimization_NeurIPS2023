{
 "cells": [
  {
   "cell_type": "code",
   "execution_count": 42,
   "metadata": {},
   "outputs": [
    {
     "name": "stdout",
     "output_type": "stream",
     "text": [
      "cpu\n"
     ]
    }
   ],
   "source": [
    "from pathlib import Path\n",
    "from tqdm import tqdm\n",
    "import os\n",
    "import json\n",
    "import copy\n",
    "import numpy as np\n",
    "import math\n",
    "import matplotlib.pyplot as plt\n",
    "import torch\n",
    "import torch.optim as optim\n",
    "import torch.nn as nn\n",
    "import torch.nn.functional as F\n",
    "# os.environ['CUDA_VISIBLE_DEVICES'] = '1'\n",
    "device = torch.device(\"cuda\" if torch.cuda.is_available() else \"cpu\")\n",
    "print(device)"
   ]
  },
  {
   "cell_type": "code",
   "execution_count": 43,
   "metadata": {},
   "outputs": [],
   "source": [
    "d = 20\n",
    "Delta = np.pi / 30\n",
    "p = 4\n",
    "width = 100\n",
    "\n",
    "def gen_data(n, d, Delta, p):\n",
    "    x = torch.rand(n, d) * 2 - 1\n",
    "    nc = int(n*p/(1+p))\n",
    "    x[0:nc, 0] = np.sin(Delta)\n",
    "    x[0:nc, 1] = -np.cos(Delta)\n",
    "    x[0:nc, 2:] = 0\n",
    "    x[nc:n, 0] = -np.sin(Delta)\n",
    "    x[nc:n, 1] = -np.cos(Delta)\n",
    "    x[nc:n, 2:] = 0\n",
    "    y = torch.randn(n)\n",
    "    for i in range(n):\n",
    "        if x[i, 0] > 0:\n",
    "            y[i] = 1.\n",
    "        else:\n",
    "            y[i] = -1.\n",
    "    return x, y"
   ]
  },
  {
   "cell_type": "code",
   "execution_count": 44,
   "metadata": {},
   "outputs": [],
   "source": [
    "def bino_(m, n):\n",
    "    idi = int(n/2)\n",
    "    x = np.random.randn(m, n)\n",
    "    x[0, 0: idi] = 1/np.sqrt(width)\n",
    "    x[0, idi:] = -1/np.sqrt(width)\n",
    "    y = torch.from_numpy(x).float()\n",
    "    return torch.nn.Parameter(y)\n",
    "\n",
    "def uniball_(d, width, kappa):\n",
    "    ka = kappa / np.sqrt(width)\n",
    "    x = np.random.normal(0., 1/np.sqrt(d), (width, d))\n",
    "    for i in range(width):\n",
    "        ni = np.linalg.norm(x[i,:])\n",
    "        x[i,:] = x[i,:] / ni\n",
    "    z = x * ka\n",
    "    y = torch.from_numpy(z).float()\n",
    "    return torch.nn.Parameter(y)\n",
    "\n",
    "def exp_loss(net, bx, by):\n",
    "    by_pre = net(bx)\n",
    "    loss_vec = torch.exp(- by_pre * by)\n",
    "    loss = loss_vec.mean()\n",
    "    return loss\n",
    "\n",
    "class FNN(nn.Module):\n",
    "    def __init__(self, d, width, kappa):\n",
    "        super(FNN, self).__init__()\n",
    "        self.fc1 = nn.Linear(d, width, bias=False)\n",
    "        self.fc1.weight = uniball_(d, width, kappa)\n",
    "        self.fc2 = nn.Linear(width, 1, bias=False)\n",
    "        self.fc2.weight = bino_(self.fc2.weight.shape[0], self.fc2.weight.shape[1])\n",
    "\n",
    "    def forward(self, x):\n",
    "        o = self.fc1(x)\n",
    "        o = torch.relu(o)\n",
    "        o = self.fc2(o)\n",
    "        return o.squeeze()"
   ]
  },
  {
   "cell_type": "code",
   "execution_count": 45,
   "metadata": {},
   "outputs": [],
   "source": [
    "def eval_accuracy(model, bx, by):\n",
    "    model.eval()\n",
    "    n = len(by)\n",
    "    with torch.no_grad():\n",
    "        z = model(bx) * by\n",
    "        correct = sum(z>0).item()\n",
    "    return correct * 100.0 / n\n"
   ]
  },
  {
   "cell_type": "code",
   "execution_count": 46,
   "metadata": {},
   "outputs": [],
   "source": [
    "def train(kappa, n_tr, nepochs, lr):\n",
    "\n",
    "    x_tr, y_tr = gen_data(n_tr, d, Delta, p)\n",
    "    \n",
    "    x_tr = x_tr.to(device)\n",
    "    y_tr = y_tr.to(device)\n",
    "\n",
    "    net_SGD = FNN(d, width, kappa)\n",
    "    opt_SGD = optim.SGD(net_SGD.fc1.parameters(), lr=lr)\n",
    "    \n",
    "    net_SGD = net_SGD.to(device)\n",
    "\n",
    "    train_loss_SGD = []\n",
    "    train_acc_SGD = []\n",
    "    neurons_SGD = {}\n",
    "    \n",
    "    for epoch in tqdm(range(nepochs)):\n",
    "        opt_SGD.zero_grad()\n",
    "        if epoch % 5 == 0:\n",
    "            net_copy = copy.deepcopy(net_SGD)\n",
    "            neurons_SGD[epoch] = net_copy.fc1.weight.detach().cpu().numpy()\n",
    "            del net_copy\n",
    "        train_loss = exp_loss(net_SGD, x_tr, y_tr)\n",
    "        train_loss_SGD.append(train_loss.item())\n",
    "        train_acc = eval_accuracy(net_SGD, x_tr, y_tr)\n",
    "        train_acc_SGD.append(train_acc)\n",
    "        train_loss.backward()\n",
    "        opt_SGD.step()\n",
    "        if epoch % int(5e4) == 0:\n",
    "            print(train_acc)\n",
    "\n",
    "    return train_loss_SGD, train_acc_SGD, neurons_SGD"
   ]
  },
  {
   "cell_type": "markdown",
   "metadata": {},
   "source": [
    "# kappa > lr"
   ]
  },
  {
   "cell_type": "code",
   "execution_count": 47,
   "metadata": {},
   "outputs": [
    {
     "name": "stderr",
     "output_type": "stream",
     "text": [
      "  0%|          | 703/150000 [00:00<00:41, 3617.80it/s]"
     ]
    },
    {
     "name": "stdout",
     "output_type": "stream",
     "text": [
      "80.0\n"
     ]
    },
    {
     "name": "stderr",
     "output_type": "stream",
     "text": [
      " 34%|███▎      | 50496/150000 [00:11<00:21, 4535.95it/s]"
     ]
    },
    {
     "name": "stdout",
     "output_type": "stream",
     "text": [
      "100.0\n"
     ]
    },
    {
     "name": "stderr",
     "output_type": "stream",
     "text": [
      " 67%|██████▋   | 100491/150000 [00:22<00:11, 4387.52it/s]"
     ]
    },
    {
     "name": "stdout",
     "output_type": "stream",
     "text": [
      "100.0\n"
     ]
    },
    {
     "name": "stderr",
     "output_type": "stream",
     "text": [
      "100%|██████████| 150000/150000 [00:33<00:00, 4477.53it/s]\n"
     ]
    }
   ],
   "source": [
    "Epoch = int(1.5e5)\n",
    "train_loss, train_acc, neurons_SGD = train(kappa=1e-1, n_tr=p+1, nepochs=Epoch, lr=1e-2)"
   ]
  },
  {
   "cell_type": "code",
   "execution_count": 48,
   "metadata": {},
   "outputs": [
    {
     "data": {
      "text/plain": [
       "Text(-29.93345690017685, 0.5, 'log(loss)')"
      ]
     },
     "execution_count": 48,
     "metadata": {},
     "output_type": "execute_result"
    },
    {
     "data": {
      "image/png": "[encoded data removed]",
      "text/plain": [
       "<Figure size 500x400 with 1 Axes>"
      ]
     },
     "metadata": {},
     "output_type": "display_data"
    }
   ],
   "source": [
    "from matplotlib import rcParams\n",
    "plt.rcParams.update({\n",
    "    \"text.usetex\": True,\n",
    "    'text.latex.preamble': r\"\\usepackage{amsmath}\",\n",
    "    \"font.family\": \"sans-serif\",\n",
    "#     \"font.serif\": [\"Calibri\"abs],\n",
    "    \"grid.color\": \"0.5\",    # gray gridlines\n",
    "    \"grid.linestyle\": \"-\",  # solid gridlines\n",
    "    \"grid.linewidth\": 0.5,  # thin gridlines\n",
    "    \"axes.titlesize\" : 16,\n",
    "    \"axes.labelsize\" : 16,\n",
    "    \"lines.linewidth\" : 3,\n",
    "    \"lines.markersize\" : 8,\n",
    "    \"xtick.labelsize\" : 16,\n",
    "    \"ytick.labelsize\" : 16,\n",
    "    \"figure.figsize\" : (5, 4),\n",
    "    \"legend.fontsize\" : 16,\n",
    "    \"legend.handlelength\": 1,\n",
    "#     \"savefig.bbox\": \"tight\",\n",
    "#     \"savefig.dpi\": 300,\n",
    "})\n",
    "import matplotlib.pyplot as plt\n",
    "\n",
    "x = range(len(train_loss))\n",
    "plt.semilogy(x, train_loss, color='C0', label='training loss')\n",
    "plt.legend()\n",
    "plt.tight_layout()\n",
    "plt.xlabel('epoch')\n",
    "plt.ylabel('log(loss)')"
   ]
  },
  {
   "cell_type": "code",
   "execution_count": 49,
   "metadata": {},
   "outputs": [
    {
     "data": {
      "image/png": "[encoded data removed]",
      "text/plain": [
       "<Figure size 500x400 with 1 Axes>"
      ]
     },
     "metadata": {},
     "output_type": "display_data"
    }
   ],
   "source": [
    "x = range(len(train_loss))\n",
    "# plt.plot(x, train_loss, color='C0')\n",
    "plt.plot(x, train_loss, color='C0', label='training loss')\n",
    "plt.legend()\n",
    "plt.xlabel('epoch')\n",
    "plt.ylabel('loss')\n",
    "plt.title(r'$\\mathcal{L}(\\boldsymbol{\\theta}(t))$', pad=10)\n",
    "plt.tight_layout()\n",
    "plt.savefig(\"./figs/loss.pdf\", dpi=500)"
   ]
  },
  {
   "cell_type": "code",
   "execution_count": 50,
   "metadata": {},
   "outputs": [
    {
     "data": {
      "image/png": "[encoded data removed]",
      "text/plain": [
       "<Figure size 500x400 with 1 Axes>"
      ]
     },
     "metadata": {},
     "output_type": "display_data"
    }
   ],
   "source": [
    "x = range(len(train_acc))\n",
    "plt.plot(x, train_acc, color='C0', label=\"training accuracy\")\n",
    "plt.legend()\n",
    "plt.xlabel('epoch')\n",
    "plt.ylabel('Acc')\n",
    "plt.title(r'${\\rm Acc}(t)$', pad=10)\n",
    "plt.tight_layout()\n",
    "plt.savefig(\"./figs/acc.pdf\", dpi=500)"
   ]
  },
  {
   "cell_type": "code",
   "execution_count": 51,
   "metadata": {},
   "outputs": [],
   "source": [
    "net_ana = {\"loss\": train_loss, \"acc\": train_acc, \"neuron\": neurons_SGD, \"d\": d, \"Delta\": Delta, 'width':width, \"T\": Epoch, \"modify\": 1}\n",
    "import pickle\n",
    "with open(\"./net_ana.p\", \"wb\") as f:\n",
    "    pickle.dump(net_ana, f)"
   ]
  },
  {
   "cell_type": "code",
   "execution_count": null,
   "metadata": {},
   "outputs": [],
   "source": []
  },
  {
   "cell_type": "code",
   "execution_count": null,
   "metadata": {},
   "outputs": [],
   "source": []
  }
 ],
 "metadata": {
  "kernelspec": {
   "display_name": "Python 3 (ipykernel)",
   "language": "python",
   "name": "python3"
  },
  "language_info": {
   "codemirror_mode": {
    "name": "ipython",
    "version": 3
   },
   "file_extension": ".py",
   "mimetype": "text/x-python",
   "name": "python",
   "nbconvert_exporter": "python",
   "pygments_lexer": "ipython3",
   "version": "3.7.11"
  }
 },
 "nbformat": 4,
 "nbformat_minor": 4
}
